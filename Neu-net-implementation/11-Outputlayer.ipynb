{
 "cells": [
  {
   "cell_type": "code",
   "execution_count": 3,
   "id": "03253255",
   "metadata": {},
   "outputs": [],
   "source": [
    "import torch\n",
    "import torch.nn as nn \n"
   ]
  },
  {
   "cell_type": "code",
   "execution_count": null,
   "id": "8df1bb59",
   "metadata": {},
   "outputs": [],
   "source": [
    "output_layer = nn.Linear(hidden_dim, 1) # one neuron , binary Classification\n",
    "activation = nn.Sigmoid()\n",
    "#wont work as its just the implemenattaion and no Pipeline is present "
   ]
  },
  {
   "cell_type": "code",
   "execution_count": null,
   "id": "4119f484",
   "metadata": {},
   "outputs": [],
   "source": [
    "x = output_layer(x)\n",
    "x = activation(x)\n"
   ]
  }
 ],
 "metadata": {
  "kernelspec": {
   "display_name": "Python 3",
   "language": "python",
   "name": "python3"
  },
  "language_info": {
   "codemirror_mode": {
    "name": "ipython",
    "version": 3
   },
   "file_extension": ".py",
   "mimetype": "text/x-python",
   "name": "python",
   "nbconvert_exporter": "python",
   "pygments_lexer": "ipython3",
   "version": "3.11.9"
  }
 },
 "nbformat": 4,
 "nbformat_minor": 5
}
