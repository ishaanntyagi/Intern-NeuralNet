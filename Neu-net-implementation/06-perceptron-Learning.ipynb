{
 "cells": [
  {
   "cell_type": "code",
   "execution_count": 20,
   "id": "f3868dfa",
   "metadata": {},
   "outputs": [],
   "source": [
    "import torch"
   ]
  },
  {
   "cell_type": "code",
   "execution_count": 21,
   "id": "5da25ae8",
   "metadata": {},
   "outputs": [],
   "source": [
    "class Perceptron:\n",
    "    def __init__(self, input_dim):\n",
    "        self.weights = torch.randn(input_dim, dtype=torch.float32)\n",
    "        self.bias = torch.randn(1, dtype=torch.float32)\n",
    "        \n",
    "    def forward(self,x):\n",
    "        z = torch.dot(self.weights, x) + self.bias\n",
    "        output = \"Yes\" if(z >= 0) else \"No\"\n",
    "        return output\n",
    "        print(output)\n",
    "    \n",
    "    def trainingLoop(self, x, y, epochs=10, Lr=0.1):\n",
    "        for epochs in range(epochs):\n",
    "            total_error = 0\n",
    "            for i in range(len(x)):\n",
    "                xi     = x[i]\n",
    "                target = y[i]    \n",
    "                predicted = self.forward(xi)\n",
    "                error = target - predicted \n",
    "                print(error)\n",
    "                self.weights += Lr*xi*error\n",
    "                self.bias    += Lr*error\n",
    "                total_error  += abs(error)\n",
    "            print(total_error)        \n",
    "            "
   ]
  },
  {
   "cell_type": "code",
   "execution_count": 23,
   "id": "6f548f5c",
   "metadata": {},
   "outputs": [
    {
     "ename": "TypeError",
     "evalue": "unsupported operand type(s) for -: 'Tensor' and 'str'",
     "output_type": "error",
     "traceback": [
      "\u001b[31m---------------------------------------------------------------------------\u001b[39m",
      "\u001b[31mTypeError\u001b[39m                                 Traceback (most recent call last)",
      "\u001b[36mCell\u001b[39m\u001b[36m \u001b[39m\u001b[32mIn[23]\u001b[39m\u001b[32m, line 7\u001b[39m\n\u001b[32m      4\u001b[39m y = torch.tensor([\u001b[32m0.\u001b[39m,\u001b[32m0.\u001b[39m,\u001b[32m0.\u001b[39m,\u001b[32m1.\u001b[39m])\n\u001b[32m      6\u001b[39m model = Perceptron(input_dim=\u001b[32m2\u001b[39m)\n\u001b[32m----> \u001b[39m\u001b[32m7\u001b[39m \u001b[43mmodel\u001b[49m\u001b[43m.\u001b[49m\u001b[43mtrainingLoop\u001b[49m\u001b[43m(\u001b[49m\u001b[43mx\u001b[49m\u001b[43m,\u001b[49m\u001b[43m \u001b[49m\u001b[43my\u001b[49m\u001b[43m,\u001b[49m\u001b[43m \u001b[49m\u001b[43mepochs\u001b[49m\u001b[43m=\u001b[49m\u001b[32;43m5\u001b[39;49m\u001b[43m,\u001b[49m\u001b[43m \u001b[49m\u001b[43mLr\u001b[49m\u001b[43m=\u001b[49m\u001b[32;43m0.1\u001b[39;49m\u001b[43m)\u001b[49m\n",
      "\u001b[36mCell\u001b[39m\u001b[36m \u001b[39m\u001b[32mIn[21]\u001b[39m\u001b[32m, line 19\u001b[39m, in \u001b[36mPerceptron.trainingLoop\u001b[39m\u001b[34m(self, x, y, epochs, Lr)\u001b[39m\n\u001b[32m     17\u001b[39m target = y[i]    \n\u001b[32m     18\u001b[39m predicted = \u001b[38;5;28mself\u001b[39m.forward(xi)\n\u001b[32m---> \u001b[39m\u001b[32m19\u001b[39m error = \u001b[43mtarget\u001b[49m\u001b[43m \u001b[49m\u001b[43m-\u001b[49m\u001b[43m \u001b[49m\u001b[43mpredicted\u001b[49m \n\u001b[32m     20\u001b[39m \u001b[38;5;28mprint\u001b[39m(error)\n\u001b[32m     21\u001b[39m \u001b[38;5;28mself\u001b[39m.weights += Lr*xi*error\n",
      "\u001b[31mTypeError\u001b[39m: unsupported operand type(s) for -: 'Tensor' and 'str'"
     ]
    }
   ],
   "source": [
    "# Sample data for testing\n",
    "import torch\n",
    "x = torch.tensor([[0.,0.],[0.,1.],[1.,0.],[1.,1.]])\n",
    "y = torch.tensor([0.,0.,0.,1.])\n",
    "\n",
    "model = Perceptron(input_dim=2)\n",
    "model.trainingLoop(x, y, epochs=5, Lr=0.1)"
   ]
  }
 ],
 "metadata": {
  "kernelspec": {
   "display_name": "Python 3",
   "language": "python",
   "name": "python3"
  },
  "language_info": {
   "codemirror_mode": {
    "name": "ipython",
    "version": 3
   },
   "file_extension": ".py",
   "mimetype": "text/x-python",
   "name": "python",
   "nbconvert_exporter": "python",
   "pygments_lexer": "ipython3",
   "version": "3.11.9"
  }
 },
 "nbformat": 4,
 "nbformat_minor": 5
}
