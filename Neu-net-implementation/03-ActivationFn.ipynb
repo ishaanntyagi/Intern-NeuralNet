{
 "cells": [
  {
   "cell_type": "code",
   "execution_count": 1,
   "id": "aa411358",
   "metadata": {},
   "outputs": [],
   "source": [
    "import torch\n",
    "import torch.nn as nn\n",
    "import tensorflow as tf\n"
   ]
  },
  {
   "cell_type": "code",
   "execution_count": null,
   "id": "387520c4",
   "metadata": {},
   "outputs": [
    {
     "name": "stdout",
     "output_type": "stream",
     "text": [
      "tensor([0., 0., 1.])\n"
     ]
    }
   ],
   "source": [
    "relu = nn.ReLU()\n",
    "X = torch.tensor([-1.0, 0.0, 1.0])\n",
    "print(relu(x))"
   ]
  },
  {
   "cell_type": "code",
   "execution_count": 8,
   "id": "b21a9699",
   "metadata": {},
   "outputs": [
    {
     "name": "stdout",
     "output_type": "stream",
     "text": [
      "tensor([0.2689, 0.5000, 0.7311])\n"
     ]
    }
   ],
   "source": [
    "#appying Sigmoid Function \n",
    "sigmoid = nn.Sigmoid()\n",
    "print(sigmoid(x))"
   ]
  },
  {
   "cell_type": "code",
   "execution_count": null,
   "id": "f64348cc",
   "metadata": {},
   "outputs": [
    {
     "name": "stdout",
     "output_type": "stream",
     "text": [
      "tf.Tensor([0.  1.  1.5 0.5], shape=(4,), dtype=float32)\n"
     ]
    }
   ],
   "source": [
    "#now via TensorFlow\n",
    "array2 = tf.constant([-1.0,1.0,1.5,0.5])\n",
    "a=tf.nn.relu(array2)\n",
    "print(a)\n",
    "\n",
    "\n"
   ]
  },
  {
   "cell_type": "code",
   "execution_count": 17,
   "id": "1d293065",
   "metadata": {},
   "outputs": [],
   "source": [
    "#now implementing Tanh via Tensors and torch \n",
    "x = torch.tensor([-2.0, -1.0, 0.0, 1.0, 2.0])\n",
    "x1 = tf.constant([-2.0, -1.0, 0.0, 1.0, 2.0])\n"
   ]
  },
  {
   "cell_type": "code",
   "execution_count": 18,
   "id": "a955bb8e",
   "metadata": {},
   "outputs": [
    {
     "name": "stdout",
     "output_type": "stream",
     "text": [
      "tensor([-0.9640, -0.7616,  0.0000,  0.7616,  0.9640])\n",
      "tf.Tensor([-0.9640276 -0.7615942  0.         0.7615942  0.9640276], shape=(5,), dtype=float32)\n"
     ]
    }
   ],
   "source": [
    "print(torch.tanh(x))\n",
    "print(tf.tanh(x1))"
   ]
  },
  {
   "cell_type": "code",
   "execution_count": null,
   "id": "564a98b7",
   "metadata": {},
   "outputs": [],
   "source": [
    "#implementation of softMax Activation Functions\n"
   ]
  }
 ],
 "metadata": {
  "kernelspec": {
   "display_name": "Python 3",
   "language": "python",
   "name": "python3"
  },
  "language_info": {
   "codemirror_mode": {
    "name": "ipython",
    "version": 3
   },
   "file_extension": ".py",
   "mimetype": "text/x-python",
   "name": "python",
   "nbconvert_exporter": "python",
   "pygments_lexer": "ipython3",
   "version": "3.11.9"
  }
 },
 "nbformat": 4,
 "nbformat_minor": 5
}
