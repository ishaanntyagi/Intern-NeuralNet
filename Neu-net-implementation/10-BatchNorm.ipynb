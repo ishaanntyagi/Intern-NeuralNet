{
 "cells": [
  {
   "cell_type": "code",
   "execution_count": 5,
   "id": "68ba42fa",
   "metadata": {},
   "outputs": [],
   "source": [
    "import torch\n",
    "import torch.nn as nn\n",
    "import torch.nn.functional as F"
   ]
  },
  {
   "cell_type": "code",
   "execution_count": 6,
   "id": "cbbe5978",
   "metadata": {},
   "outputs": [],
   "source": [
    "class SimpleNNWithBatchNorm(nn.Module):\n",
    "    def __init__(self, input_dim, hidden1_dim, hidden2_dim, output_dim):\n",
    "        super().__init__() #to fetch all the methods of the parent class , (super Keyword = same as java)\n",
    "        #if Super wont be used PyTorch will be be aware of the Layers and parameters etc passed.\n",
    "        # in our case the nn.module is the Parent class from which the methods needs to be fetched.\n",
    "        \n",
    "        self.fc1 = nn.Linear(input_dim, hidden1_dim)\n",
    "        self.bn1 = nn.BatchNorm1d(hidden1_dim)\n",
    "        self.fc2 = nn.Linear(hidden1_dim, hidden2_dim)\n",
    "        self.bn2 = nn.BatchNorm1d(hidden2_dim)\n",
    "        self.fc3 = nn.Linear(hidden2_dim, output_dim)\n",
    "        \n",
    "    def forward(self, x):\n",
    "        x = F.relu(self.bn1(self.fc1(x)))\n",
    "        x = F.relu(self.bn2(self.fc2(x)))\n",
    "        x = torch.sigmoid(self.fc3(x))\n",
    "        return x        "
   ]
  },
  {
   "cell_type": "code",
   "execution_count": 7,
   "id": "7bd8c781",
   "metadata": {},
   "outputs": [
    {
     "name": "stdout",
     "output_type": "stream",
     "text": [
      "torch.Size([16, 1])\n"
     ]
    }
   ],
   "source": [
    "X = torch.randn(16, 4)  # batch of 16 samples, 4 features each\n",
    "model = SimpleNNWithBatchNorm(4, 8, 8, 1) #4 = input features \n",
    "# 8 and 8 are the neurons in the HiddenLayers\n",
    "#and 1 is the neuron in the Output layer \n",
    "y_pred = model(X)\n",
    "print(y_pred.shape)"
   ]
  },
  {
   "cell_type": "code",
   "execution_count": 8,
   "id": "15e315c8",
   "metadata": {},
   "outputs": [
    {
     "name": "stdout",
     "output_type": "stream",
     "text": [
      "Before BatchNorm:\n",
      "Mean  : tensor([57.6425, 58.9973, 50.8966, 49.9086])\n",
      "Std   : tensor([22.7563, 21.4063, 12.7993, 29.3725])\n",
      "Data  :\n",
      " tensor([[88.5383, 79.7457, 68.0143,  7.8896],\n",
      "        [63.5684, 25.3091, 49.1386, 17.9067],\n",
      "        [34.9573, 82.9745, 42.1504, 21.9279],\n",
      "        [35.4424, 38.8114, 34.6232, 65.2489],\n",
      "        [82.8463, 46.8081, 40.0520, 58.7918],\n",
      "        [34.8374, 71.5664, 66.0160, 83.6124],\n",
      "        [75.5825, 75.9285, 62.2093, 76.6948],\n",
      "        [45.3675, 50.8352, 44.9685, 67.1972]])\n",
      "\n",
      "After BatchNorm:\n",
      "Mean  : tensor([-1.1921e-07,  7.4506e-08, -1.4901e-07, -1.6391e-07],\n",
      "       grad_fn=<MeanBackward1>)\n",
      "Std   : tensor([1.0690, 1.0690, 1.0690, 1.0690], grad_fn=<StdBackward0>)\n",
      "Data  :\n",
      " tensor([[ 1.4514,  1.0362,  1.4297, -1.5293],\n",
      "        [ 0.2784, -1.6824, -0.1468, -1.1647],\n",
      "        [-1.0657,  1.1974, -0.7305, -1.0184],\n",
      "        [-1.0429, -1.0081, -1.3592,  0.5583],\n",
      "        [ 1.1840, -0.6087, -0.9058,  0.3233],\n",
      "        [-1.0713,  0.6277,  1.2628,  1.2267],\n",
      "        [ 0.8428,  0.8456,  0.9449,  0.9749],\n",
      "        [-0.5767, -0.4076, -0.4951,  0.6292]],\n",
      "       grad_fn=<NativeBatchNormBackward0>)\n"
     ]
    }
   ],
   "source": [
    "torch.manual_seed(42)\n",
    "X = torch.randn(8, 4) * 20 + 50  # mean ~50, std ~20\n",
    "\n",
    "print(\"Before BatchNorm:\")\n",
    "print(\"Mean  :\", X.mean(dim=0))\n",
    "print(\"Std   :\", X.std(dim=0))\n",
    "print(\"Data  :\\n\", X)\n",
    "\n",
    "# Define BatchNorm layer for 4 features\n",
    "bn = nn.BatchNorm1d(4)\n",
    "X_bn = bn(X)\n",
    "\n",
    "print(\"\\nAfter BatchNorm:\")\n",
    "print(\"Mean  :\", X_bn.mean(dim=0))\n",
    "print(\"Std   :\", X_bn.std(dim=0))\n",
    "print(\"Data  :\\n\", X_bn)"
   ]
  }
 ],
 "metadata": {
  "kernelspec": {
   "display_name": "Python 3",
   "language": "python",
   "name": "python3"
  },
  "language_info": {
   "codemirror_mode": {
    "name": "ipython",
    "version": 3
   },
   "file_extension": ".py",
   "mimetype": "text/x-python",
   "name": "python",
   "nbconvert_exporter": "python",
   "pygments_lexer": "ipython3",
   "version": "3.11.9"
  }
 },
 "nbformat": 4,
 "nbformat_minor": 5
}
