{
 "cells": [
  {
   "cell_type": "markdown",
   "id": "58a103ce",
   "metadata": {},
   "source": [
    "What is a Loss Function?\n",
    "\n",
    "A loss function is a tool that tells a neural network how “wrong” its predictions are compared to the actual answers. It converts the difference between what the model predicts and what’s actually correct into a single number (the “loss”). The smaller this number, the better the model is doing.\n",
    "\n",
    "\n",
    "\n",
    "Why Do We Need Loss Functions?\n",
    "\n",
    "Loss functions are essential for training. After the model makes a prediction, the loss function measures its performance. The network uses this feedback to improve its parameters (like weights and biases), learning how to make better predictions over time.\n"
   ]
  },
  {
   "cell_type": "markdown",
   "id": "12799d76",
   "metadata": {},
   "source": [
    "Types of Loss Functions\n",
    "\n",
    "1. Mean Squared Error (MSE)\n",
    "Used for problems where the output is a number (like predicting price or temperature).\n",
    "Checks how far off the predicted number is from the actual number, and penalizes bigger mistakes even more.\n",
    "\n",
    "\n",
    "2. Binary Cross-Entropy (BCE)\n",
    "Used for tasks where there are only two possible answers (like yes/no, true/false, or cat/dog).\n",
    "Measures how well the model’s predicted probabilities match what actually happened.\n",
    "\n",
    "\n",
    "3. Categorical Cross-Entropy\n",
    "Used when there are more than two possible categories (like classifying images into dog, cat, or horse).\n",
    "Looks at how much the model’s prediction matches the correct class out of several options."
   ]
  },
  {
   "cell_type": "code",
   "execution_count": 9,
   "id": "97d85807",
   "metadata": {},
   "outputs": [],
   "source": [
    "import torch\n",
    "import torch.nn as nn"
   ]
  },
  {
   "cell_type": "code",
   "execution_count": 13,
   "id": "f3aa69ba",
   "metadata": {},
   "outputs": [
    {
     "name": "stdout",
     "output_type": "stream",
     "text": [
      "calculation: mean-squared-error \n",
      "y_true: [2.5, 0.0, 2.0, 8.0]\n",
      "y_pred: [3.0, -0.5, 2.0, 7.0]\n",
      "MSE Loss: 0.375\n",
      "----------------------------------------\n"
     ]
    }
   ],
   "source": [
    "print(\"calculation: mean-squared-error \")\n",
    "y_true = torch.tensor([2.5, 0.0, 2.0, 8.0])\n",
    "y_pred = torch.tensor([3.0, -0.5, 2.0, 7.0])\n",
    "mse_loss = nn.MSELoss()\n",
    "loss_mse = mse_loss(y_pred, y_true)\n",
    "print(\"y_true:\", y_true.tolist())\n",
    "print(\"y_pred:\", y_pred.tolist())\n",
    "print(\"MSE Loss:\", loss_mse.item())\n",
    "print(\"-\" * 40)\n"
   ]
  },
  {
   "cell_type": "code",
   "execution_count": 15,
   "id": "2c0065b9",
   "metadata": {},
   "outputs": [
    {
     "name": "stdout",
     "output_type": "stream",
     "text": [
      "Bce Loss\n",
      "tensor(0.1643)\n"
     ]
    }
   ],
   "source": [
    "y_true = torch.tensor([1., 0., 1., 0.])\n",
    "y_pred = torch.tensor([0.9, 0.2, 0.8, 0.1])\n",
    "bin_loss = nn.BCELoss()\n",
    "calculated_loss_bce = bin_loss(y_pred, y_true)\n",
    "print(\"Bce Loss\")\n",
    "print(calculated_loss_bce)"
   ]
  },
  {
   "cell_type": "code",
   "execution_count": null,
   "id": "075756d7",
   "metadata": {},
   "outputs": [],
   "source": []
  }
 ],
 "metadata": {
  "kernelspec": {
   "display_name": "Python 3",
   "language": "python",
   "name": "python3"
  },
  "language_info": {
   "codemirror_mode": {
    "name": "ipython",
    "version": 3
   },
   "file_extension": ".py",
   "mimetype": "text/x-python",
   "name": "python",
   "nbconvert_exporter": "python",
   "pygments_lexer": "ipython3",
   "version": "3.11.9"
  }
 },
 "nbformat": 4,
 "nbformat_minor": 5
}
