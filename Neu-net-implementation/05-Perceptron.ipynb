{
 "cells": [
  {
   "cell_type": "code",
   "execution_count": 46,
   "id": "edb2d981",
   "metadata": {},
   "outputs": [],
   "source": [
    "#import torch \n",
    "import torch "
   ]
  },
  {
   "cell_type": "code",
   "execution_count": 47,
   "id": "a99a08a4",
   "metadata": {},
   "outputs": [],
   "source": [
    "#make the basic perceptron class \n",
    "class Perceptron:\n",
    "    def __init__(self, input_dim):\n",
    "        #here the random numbers will be used with the Features as weights \n",
    "        self.weights = torch.randn(input_dim, dtype=torch.float32)\n",
    "        #setting up the bias\n",
    "        self.bias    = torch.randn(1, dtype=torch.float32)\n",
    "        #here input_dim =3 if that is 3 then we know that , there will be 3 , like [-01,2.0,1.3] will be the 3 number that are generated randomly by randn\n",
    "        \n",
    "        #Now wil be doin the predition/forward pass \n",
    "    def forward(self,x):\n",
    "        #x is the input data like (height or weight)\n",
    "        z = torch.dot(self.weights, x) +self.bias\n",
    "        output = 1 if z >= 0 else 0\n",
    "        #if z is 0 or higher , perceptron Says YES(1)\n",
    "        #if z is less than Zero , it says No (0)\n",
    "        return output"
   ]
  },
  {
   "cell_type": "code",
   "execution_count": 48,
   "id": "b4713ec6",
   "metadata": {},
   "outputs": [
    {
     "name": "stdout",
     "output_type": "stream",
     "text": [
      "yes\n",
      "1\n"
     ]
    }
   ],
   "source": [
    "#lets make a prediction using the Perceptron \n",
    "perceptron = Perceptron(input_dim=2)\n",
    "x = torch.tensor([1.0,0.0])\n",
    "output = perceptron.forward(x)\n",
    "if output == 1:\n",
    "    print(\"yes\")\n",
    "else:\n",
    "    print(\"No\")\n",
    "print(output)    "
   ]
  }
 ],
 "metadata": {
  "kernelspec": {
   "display_name": "Python 3",
   "language": "python",
   "name": "python3"
  },
  "language_info": {
   "codemirror_mode": {
    "name": "ipython",
    "version": 3
   },
   "file_extension": ".py",
   "mimetype": "text/x-python",
   "name": "python",
   "nbconvert_exporter": "python",
   "pygments_lexer": "ipython3",
   "version": "3.11.9"
  }
 },
 "nbformat": 4,
 "nbformat_minor": 5
}
