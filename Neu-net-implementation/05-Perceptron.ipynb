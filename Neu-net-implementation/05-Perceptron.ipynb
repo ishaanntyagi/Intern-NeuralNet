{
 "cells": [
  {
   "cell_type": "code",
   "execution_count": 12,
   "id": "edb2d981",
   "metadata": {},
   "outputs": [],
   "source": [
    "#import torch \n",
    "import torch "
   ]
  },
  {
   "cell_type": "code",
   "execution_count": 13,
   "id": "a99a08a4",
   "metadata": {},
   "outputs": [],
   "source": [
    "#make the basic perceptron class \n",
    "class Perceptron:\n",
    "    def __init__(self, input_dim):\n",
    "        #here the random numbers will be used with the Features as weights \n",
    "        self.weights = torch.randn(input_dim, dtype=torch.float32)\n",
    "        #setting up the bias\n",
    "        self.bias    = torch.randn(1, dtype=torch.float32)\n",
    "        #here input_dim =3 if that is 3 then we know that , there will be 3 , like [-01,2.0,1.3] will be the 3 number that are generated randomly by randn\n",
    "        "
   ]
  },
  {
   "cell_type": "code",
   "execution_count": 14,
   "id": "b1569e2b",
   "metadata": {},
   "outputs": [],
   "source": [
    "#Now wil be doin the predition/forward pass \n",
    "def forward(self,x):\n",
    "    #x is the input data like (height or weight)\n",
    "    z = torch.dot(self.weights, x) +self.bias\n",
    "    output = 1 if z >= 0 else 0\n",
    "    #if z is 0 or higher , perceptron Says YES(1)\n",
    "    #if z is less than Zero , it says No (0)\n",
    "    return output"
   ]
  },
  {
   "cell_type": "code",
   "execution_count": null,
   "id": "b4713ec6",
   "metadata": {},
   "outputs": [
    {
     "ename": "AttributeError",
     "evalue": "type object 'Perceptron' has no attribute 'forward'",
     "output_type": "error",
     "traceback": [
      "\u001b[31m---------------------------------------------------------------------------\u001b[39m",
      "\u001b[31mAttributeError\u001b[39m                            Traceback (most recent call last)",
      "\u001b[36mCell\u001b[39m\u001b[36m \u001b[39m\u001b[32mIn[16]\u001b[39m\u001b[32m, line 4\u001b[39m\n\u001b[32m      2\u001b[39m perceptron = Perceptron(input_dim=\u001b[32m2\u001b[39m)\n\u001b[32m      3\u001b[39m x = torch.tensor([\u001b[32m1.0\u001b[39m,\u001b[32m0.0\u001b[39m])\n\u001b[32m----> \u001b[39m\u001b[32m4\u001b[39m output = \u001b[43mPerceptron\u001b[49m\u001b[43m.\u001b[49m\u001b[43mforward\u001b[49m(x)\n\u001b[32m      5\u001b[39m \u001b[38;5;28mprint\u001b[39m(output)\n",
      "\u001b[31mAttributeError\u001b[39m: type object 'Perceptron' has no attribute 'forward'"
     ]
    }
   ],
   "source": [
    "#lets make a prediction using the Perceptron \n",
    "perceptron = Perceptron(input_dim=2)\n",
    "x = torch.tensor([1.0,0.0])\n",
    "output = perceptron.forward(x)\n",
    "print(output)"
   ]
  }
 ],
 "metadata": {
  "kernelspec": {
   "display_name": "Python 3",
   "language": "python",
   "name": "python3"
  },
  "language_info": {
   "codemirror_mode": {
    "name": "ipython",
    "version": 3
   },
   "file_extension": ".py",
   "mimetype": "text/x-python",
   "name": "python",
   "nbconvert_exporter": "python",
   "pygments_lexer": "ipython3",
   "version": "3.11.9"
  }
 },
 "nbformat": 4,
 "nbformat_minor": 5
}
