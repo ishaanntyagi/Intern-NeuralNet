{
 "cells": [
  {
   "cell_type": "code",
   "execution_count": 5,
   "id": "eeab71fd",
   "metadata": {},
   "outputs": [],
   "source": [
    "import torch\n",
    "import torch.nn as nn\n",
    "import torch.nn.functional as F"
   ]
  },
  {
   "cell_type": "code",
   "execution_count": null,
   "id": "a2da9387",
   "metadata": {},
   "outputs": [],
   "source": [
    "class SimpleNeuralNetworkHidden(nn.Module):\n",
    "    def __init__(self, input_dim, hidden1_dim, hidden2_dim, hidden3_dim, output_dim):\n",
    "        super().__init__()\n",
    "        self.weights1 = nn.Parameter(torch.randn(input_dim, hidden1_dim))\n",
    "        self.bias1    = nn.Parameter(torch.randn(hidden1_dim))\n",
    "        self.weights2 = nn.Parameter(torch.randn(hidden1_dim, hidden2_dim))\n",
    "        self.bias2    = nn.Parameter(torch.randn(hidden2_dim))\n",
    "        self.weights3 = nn.Parameter(torch.randn(hidden2_dim, hidden3_dim))\n",
    "        self.bias3    = nn.Parameter(torch.randn(hidden3_dim))\n",
    "        self.weights4 = nn.Parameter(torch.randn(hidden3_dim, output_dim))\n",
    "        self.bias4    = nn.Parameter(torch.randn(output_dim))\n",
    "        \n",
    "        #need to be bound with the Parameter so that we can define the parameter below and we can \n",
    "        #then put adam as the optimizer \n",
    "        \n",
    "    def forward(self, x):\n",
    "        h1 = torch.matmul(x, self.weights1) + self.bias1\n",
    "        h1 = F.relu(h1)\n",
    "        h2 = torch.matmul(h1, self.weights2) + self.bias2\n",
    "        h2 = F.relu(h2)\n",
    "        h3 = torch.matmul(h2, self.weights3) + self.bias3\n",
    "        h3 = F.relu(h3)\n",
    "        out = torch.matmul(h3, self.weights4) + self.bias4\n",
    "        out = torch.sigmoid(out)\n",
    "        return out\n",
    "    \n",
    "    def train_model(self, X, y, epochs=1000, lr=0.01):\n",
    "        optimizer = torch.optim.Adam(self.parameters(), lr=lr) #here we have initialized the Adam optimizer now , no need to Us to do it manually\n",
    "        for epoch in range(epochs):\n",
    "            optimizer.zero_grad()\n",
    "            y_pred = self.forward(X).squeeze() \n",
    "            loss = F.binary_cross_entropy(y_pred, y)\n",
    "            loss.backward()\n",
    "            optimizer.step()\n",
    "            if epoch % 100 == 0:\n",
    "                print(f\"Epoch {epoch}: Loss = {loss.item():.4f}\")    "
   ]
  },
  {
   "cell_type": "code",
   "execution_count": null,
   "id": "74489704",
   "metadata": {},
   "outputs": [
    {
     "name": "stdout",
     "output_type": "stream",
     "text": [
      "tensor([[-1.0012,  0.0799, -1.3437,  2.5439],\n",
      "        [-1.3367,  0.6023,  0.2071,  1.1526],\n",
      "        [ 0.4611,  0.4502, -0.2069, -0.6808],\n",
      "        [ 0.8481,  1.8074, -0.7180, -0.3957],\n",
      "        [-0.5289,  0.4982,  1.0995,  2.0137],\n",
      "        [ 0.7398, -0.2505, -0.0611, -0.9840],\n",
      "        [ 0.2615,  0.3900, -0.4907, -0.5962],\n",
      "        [ 1.2974, -1.6361,  1.0600, -0.6790],\n",
      "        [ 0.7175,  0.3633, -1.6067, -0.8352],\n",
      "        [-1.1869, -2.0893, -1.1565,  0.8112]])\n",
      "tensor([1., 0., 0., 1., 0., 0., 0., 0., 1., 1.])\n",
      "Epoch 0: Loss = 1.7699\n",
      "Epoch 100: Loss = 0.1488\n",
      "Epoch 200: Loss = 0.0795\n",
      "Epoch 300: Loss = 0.0492\n",
      "Epoch 400: Loss = 0.0334\n"
     ]
    }
   ],
   "source": [
    "import torch\n",
    "\n",
    "# Example input and output\n",
    "X = torch.randn(10, 4)  # 10 samples, 4 features (input_dim=4)\n",
    "y = torch.randint(0, 2, (10,), dtype=torch.float32)  # 10 binary labels\n",
    "print(X)\n",
    "print(y)\n",
    "# Create the neural network object\n",
    "model = SimpleNeuralNetworkHidden(4, 8, 8, 4, 1)\n",
    "model.train_model(X, y, epochs=500, lr=0.01)\n"
   ]
  }
 ],
 "metadata": {
  "kernelspec": {
   "display_name": "Python 3",
   "language": "python",
   "name": "python3"
  },
  "language_info": {
   "codemirror_mode": {
    "name": "ipython",
    "version": 3
   },
   "file_extension": ".py",
   "mimetype": "text/x-python",
   "name": "python",
   "nbconvert_exporter": "python",
   "pygments_lexer": "ipython3",
   "version": "3.11.9"
  }
 },
 "nbformat": 4,
 "nbformat_minor": 5
}
